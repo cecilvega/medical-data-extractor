{
 "cells": [
  {
   "cell_type": "code",
   "execution_count": 3,
   "id": "initial_id",
   "metadata": {
    "collapsed": true,
    "ExecuteTime": {
     "end_time": "2024-03-29T21:42:32.315582Z",
     "start_time": "2024-03-29T21:42:32.265045Z"
    }
   },
   "outputs": [],
   "source": [
    "import requests\n",
    "import pandas as pd\n",
    "import polars as pl\n",
    "import numpy as np"
   ]
  },
  {
   "cell_type": "code",
   "outputs": [],
   "source": [
    "session = requests.Session()\n",
    "login_url = \"https://exalab.saludoriente.cl/web_ssmo/index.php\"\n",
    "form_data = {\"usuario\": \"25977913\", \"clave\": \"Felipe2020\"}\n",
    "response = session.post(login_url, data=form_data)"
   ],
   "metadata": {
    "collapsed": false,
    "ExecuteTime": {
     "end_time": "2024-03-29T22:02:26.084444Z",
     "start_time": "2024-03-29T22:02:25.602130Z"
    }
   },
   "id": "7b61695ff90994ea",
   "execution_count": 29
  },
  {
   "cell_type": "code",
   "outputs": [
    {
     "data": {
      "text/plain": "Cookie(version=0, name='PHPSESSID', value='94ii3j37ofccarfu48gc5m2lgn', port=None, port_specified=False, domain='', domain_specified=False, domain_initial_dot=False, path='/', path_specified=True, secure=False, expires=None, discard=True, comment=None, comment_url=None, rest={'HttpOnly': None}, rfc2109=False)"
     },
     "execution_count": 37,
     "metadata": {},
     "output_type": "execute_result"
    }
   ],
   "source": [
    "session_cookie = response.cookies.get(\"PHPSESSID\")\n",
    "session.cookies.set(\"PHPSESSID\", session_cookie)"
   ],
   "metadata": {
    "collapsed": false,
    "ExecuteTime": {
     "end_time": "2024-03-29T22:06:16.523437Z",
     "start_time": "2024-03-29T22:06:16.517601Z"
    }
   },
   "id": "ea8ad2a700279138",
   "execution_count": 37
  },
  {
   "cell_type": "code",
   "outputs": [
    {
     "data": {
      "text/plain": "<RequestsCookieJar[Cookie(version=0, name='PHPSESSID', value='94ii3j37ofccarfu48gc5m2lgn', port=None, port_specified=False, domain='exalab.saludoriente.cl', domain_specified=False, domain_initial_dot=False, path='/', path_specified=True, secure=False, expires=None, discard=True, comment=None, comment_url=None, rest={}, rfc2109=False), Cookie(version=0, name='PHPSESSID', value='94ii3j37ofccarfu48gc5m2lgn', port=None, port_specified=False, domain='', domain_specified=False, domain_initial_dot=False, path='/', path_specified=True, secure=False, expires=None, discard=True, comment=None, comment_url=None, rest={'HttpOnly': None}, rfc2109=False)]>"
     },
     "execution_count": 40,
     "metadata": {},
     "output_type": "execute_result"
    }
   ],
   "source": [
    "session.cookies"
   ],
   "metadata": {
    "collapsed": false,
    "ExecuteTime": {
     "end_time": "2024-03-29T22:07:17.279017Z",
     "start_time": "2024-03-29T22:07:17.276573Z"
    }
   },
   "id": "afdee5610fd50b94",
   "execution_count": 40
  },
  {
   "cell_type": "code",
   "outputs": [],
   "source": [
    "curl 'https://exalab.saludoriente.cl/web_ssmo/controlador/consulta.php' \\\n",
    "     -H 'Accept: */*' \\\n",
    "        -H 'Accept-Language: es-ES,es;q=0.9,en;q=0.8' \\\n",
    "           -H 'Connection: keep-alive' \\\n",
    "              -H 'Content-Type: application/x-www-form-urlencoded; charset=UTF-8' \\\n",
    "                 -H 'Cookie: PHPSESSID=8ncr89210fd802aq0ehjtrldm0' \\\n",
    "                    -H 'Origin: https://exalab.saludoriente.cl' \\\n",
    "                       -H 'Referer: https://exalab.saludoriente.cl/web_ssmo/index.php' \\\n",
    "                          -H 'Sec-Fetch-Dest: empty' \\\n",
    "                             -H 'Sec-Fetch-Mode: cors' \\\n",
    "                                -H 'Sec-Fetch-Site: same-origin' \\\n",
    "                                   -H 'User-Agent: Mozilla/5.0 (X11; Linux x86_64) AppleWebKit/537.36 (KHTML, like Gecko) Chrome/123.0.0.0 Safari/537.36' \\\n",
    "                                      -H 'X-Requested-With: XMLHttpRequest' \\\n",
    "                                         -H 'sec-ch-ua: \"Google Chrome\";v=\"123\", \"Not:A-Brand\";v=\"8\", \"Chromium\";v=\"123\"' \\\n",
    "                                            -H 'sec-ch-ua-mobile: ?0' \\\n",
    "                                               -H 'sec-ch-ua-platform: \"Linux\"' \\\n",
    "                                                  --data-raw 'rut=9.690.916-0'"
   ],
   "metadata": {
    "collapsed": false
   },
   "id": "e388d7713961876d"
  },
  {
   "cell_type": "code",
   "outputs": [
    {
     "data": {
      "text/plain": "\"Su sesión a expirado por inactividad. Por favor <a href='https://exalab.saludoriente.cl/web_ssmo/index.php'>ingrese nuevamente</a>\""
     },
     "execution_count": 39,
     "metadata": {},
     "output_type": "execute_result"
    }
   ],
   "source": [
    "session.post(\n",
    "    \"https://exalab.saludoriente.cl/web_ssmo/controlador/consulta.php\",\n",
    "    data={\n",
    "        \"rut\": \"9.690.916-0\",\n",
    "    },\n",
    ").text"
   ],
   "metadata": {
    "collapsed": false,
    "ExecuteTime": {
     "end_time": "2024-03-29T22:06:23.689756Z",
     "start_time": "2024-03-29T22:06:23.662528Z"
    }
   },
   "id": "2dbdfe9ca083da27",
   "execution_count": 39
  },
  {
   "cell_type": "code",
   "outputs": [],
   "source": [
    "curl 'https://exalab.saludoriente.cl/web_ssmo/controlador/consulta.php' \\\n",
    "     -H 'Accept: */*' \\\n",
    "        -H 'Accept-Language: es-ES,es;q=0.9,en;q=0.8' \\\n",
    "           -H 'Connection: keep-alive' \\\n",
    "              -H 'Content-Type: application/x-www-form-urlencoded; charset=UTF-8' \\\n",
    "                 -H 'Cookie: PHPSESSID=8ncr89210fd802aq0ehjtrldm0' \\\n",
    "                    -H 'Origin: https://exalab.saludoriente.cl' \\\n",
    "                       -H 'Referer: https://exalab.saludoriente.cl/web_ssmo/index.php' \\\n",
    "                          -H 'Sec-Fetch-Dest: empty' \\\n",
    "                             -H 'Sec-Fetch-Mode: cors' \\\n",
    "                                -H 'Sec-Fetch-Site: same-origin' \\\n",
    "                                   -H 'User-Agent: Mozilla/5.0 (X11; Linux x86_64) AppleWebKit/537.36 (KHTML, like Gecko) Chrome/123.0.0.0 Safari/537.36' \\\n",
    "                                      -H 'X-Requested-With: XMLHttpRequest' \\\n",
    "                                         -H 'sec-ch-ua: \"Google Chrome\";v=\"123\", \"Not:A-Brand\";v=\"8\", \"Chromium\";v=\"123\"' \\\n",
    "                                            -H 'sec-ch-ua-mobile: ?0' \\\n",
    "                                               -H 'sec-ch-ua-platform: \"Linux\"' \\\n",
    "                                                  --data-raw 'rut=9.690.916-0'"
   ],
   "metadata": {
    "collapsed": false
   },
   "id": "61a50484fa2aa63"
  }
 ],
 "metadata": {
  "kernelspec": {
   "display_name": "Python 3",
   "language": "python",
   "name": "python3"
  },
  "language_info": {
   "codemirror_mode": {
    "name": "ipython",
    "version": 2
   },
   "file_extension": ".py",
   "mimetype": "text/x-python",
   "name": "python",
   "nbconvert_exporter": "python",
   "pygments_lexer": "ipython2",
   "version": "2.7.6"
  }
 },
 "nbformat": 4,
 "nbformat_minor": 5
}
